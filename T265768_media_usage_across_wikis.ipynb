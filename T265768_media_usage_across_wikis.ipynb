{
 "cells": [
  {
   "cell_type": "markdown",
   "metadata": {},
   "source": [
    "# Media Usage Across Wikis\n",
    "\n",
    "This is a proof of concept notebook, showing that with the data we have available it's possible to identify usage of media across all Wikimedia projects and whether that media is hosted on Commons, locally, or appears to be missing. The phab task associated with this work is [T265768](https://phabricator.wikimedia.org/T265768).\n",
    "\n",
    "We take the query from [T247417#6017438](https://phabricator.wikimedia.org/T247417#6017438) and modify it. We join with `mediawiki_image`, which allows us to identify all media hosted on the given wiki. We also join with `mediawiki_page` to correctly identify media hosted on Commons. If a file in use but not found in either place, we label it a redlink.\n",
    "\n",
    "It's worth noting that the Commons wiki has a database table that tracks usage of an image on other wikis, but this table is optimized for looking up usage of a specific image so it can be shown on the file page ([here's an example](https://commons.wikimedia.org/wiki/File:Black_hole_-_Messier_87_crop_max_res.jpg)). That database table should not be used for aggregations per wiki, which is our use case.\n",
    "\n",
    "We also note that the `image` table is needed to correctly identify locally hosted files. One might think that the `page` table could be used, but it's possible to create a file page on a local wiki for a file that's hosted on Commons (see [nn:Fil:Attendekall.jpg](https://nn.wikipedia.org/wiki/Fil:Attendekall.jpg) for an example)."
   ]
  },
  {
   "cell_type": "code",
   "execution_count": 2,
   "metadata": {},
   "outputs": [],
   "source": [
    "from wmfdata import spark"
   ]
  },
  {
   "cell_type": "code",
   "execution_count": 3,
   "metadata": {},
   "outputs": [],
   "source": [
    "media_usage_query = '''\n",
    "WITH ims AS ( -- image uses from content namespaces\n",
    "    SELECT wiki_db, il_to\n",
    "    FROM wmf_raw.mediawiki_imagelinks AS m\n",
    "    INNER JOIN wmf_raw.mediawiki_project_namespace_map AS ns\n",
    "    ON ns.namespace_is_content=1\n",
    "    AND ns.dbname=m.wiki_db \n",
    "    AND ns.namespace = m.il_from_namespace\n",
    "    WHERE m.snapshot = \"{snapshot}\"\n",
    "    AND ns.snapshot = \"{snapshot}\"\n",
    "),\n",
    "lp AS ( -- local files\n",
    "    SELECT wiki_db, img_name\n",
    "    FROM wmf_raw.mediawiki_image\n",
    "    WHERE snapshot = \"{snapshot}\"\n",
    "),\n",
    "cp AS ( -- files from Commons\n",
    "    SELECT wiki_db, page_title\n",
    "    FROM wmf_raw.mediawiki_page\n",
    "    WHERE snapshot = \"{snapshot}\"\n",
    "    AND wiki_db = \"commonswiki\"\n",
    "    AND page_namespace = 6\n",
    ")\n",
    "SELECT ims.wiki_db,\n",
    "    CASE\n",
    "        WHEN lp.img_name IS NOT NULL THEN \"local\"\n",
    "        WHEN cp.page_title IS NOT NULL THEN \"commons\"\n",
    "        ELSE \"redlink\"\n",
    "    END AS media_source,\n",
    "    SUM(1) AS num_file_uses,\n",
    "    COUNT(DISTINCT il_to) AS num_files\n",
    "FROM ims\n",
    "LEFT JOIN lp\n",
    "ON ims.wiki_db = lp.wiki_db\n",
    "AND ims.il_to = lp.img_name\n",
    "LEFT JOIN cp\n",
    "ON ims.il_to = cp.page_title\n",
    "GROUP BY ims.wiki_db, media_source\n",
    "'''"
   ]
  },
  {
   "cell_type": "code",
   "execution_count": 4,
   "metadata": {},
   "outputs": [],
   "source": [
    "usage_stats = spark.run(media_usage_query.format(\n",
    "    snapshot = '2020-11'\n",
    "))"
   ]
  },
  {
   "cell_type": "markdown",
   "metadata": {},
   "source": [
    "The query as written provides us with aggregated counts showing the number of files in use from a given source (`num_files`), and the number of times those files are used on content pages (`num_file_uses`). Below are a couple of examples using the November 2020 snapshot. Said snapshot is created at the beginning of December 2020, thus reflects the state of file usage at that point.\n",
    "\n",
    "We can see that English Wikipedia had 786,800 local files that were in use on content pages, and they were used a total of 6,559,706 times. English Wikipedia also used 4,768,444 files from Commons, and these were used 21,457,937 times. There were also 6,169 files referenced that did not exist, used 6,869 times.\n",
    "\n",
    "Nynorsk Wikipedia (\"nnwiki\") shows a very different example, because it only had 11 local files in use, for a total of 14 uses. That wiki instead used media from Commons: 140,559 files, used 407,347 times."
   ]
  },
  {
   "cell_type": "code",
   "execution_count": 6,
   "metadata": {},
   "outputs": [
    {
     "data": {
      "text/html": [
       "<div>\n",
       "<style scoped>\n",
       "    .dataframe tbody tr th:only-of-type {\n",
       "        vertical-align: middle;\n",
       "    }\n",
       "\n",
       "    .dataframe tbody tr th {\n",
       "        vertical-align: top;\n",
       "    }\n",
       "\n",
       "    .dataframe thead th {\n",
       "        text-align: right;\n",
       "    }\n",
       "</style>\n",
       "<table border=\"1\" class=\"dataframe\">\n",
       "  <thead>\n",
       "    <tr style=\"text-align: right;\">\n",
       "      <th></th>\n",
       "      <th>wiki_db</th>\n",
       "      <th>media_source</th>\n",
       "      <th>num_file_uses</th>\n",
       "      <th>num_files</th>\n",
       "    </tr>\n",
       "  </thead>\n",
       "  <tbody>\n",
       "    <tr>\n",
       "      <th>722</th>\n",
       "      <td>enwiki</td>\n",
       "      <td>commons</td>\n",
       "      <td>21457937</td>\n",
       "      <td>4768444</td>\n",
       "    </tr>\n",
       "    <tr>\n",
       "      <th>1784</th>\n",
       "      <td>enwiki</td>\n",
       "      <td>local</td>\n",
       "      <td>6559706</td>\n",
       "      <td>786800</td>\n",
       "    </tr>\n",
       "    <tr>\n",
       "      <th>1807</th>\n",
       "      <td>enwiki</td>\n",
       "      <td>redlink</td>\n",
       "      <td>6869</td>\n",
       "      <td>6169</td>\n",
       "    </tr>\n",
       "  </tbody>\n",
       "</table>\n",
       "</div>"
      ],
      "text/plain": [
       "     wiki_db media_source  num_file_uses  num_files\n",
       "722   enwiki      commons       21457937    4768444\n",
       "1784  enwiki        local        6559706     786800\n",
       "1807  enwiki      redlink           6869       6169"
      ]
     },
     "execution_count": 6,
     "metadata": {},
     "output_type": "execute_result"
    }
   ],
   "source": [
    "usage_stats.loc[usage_stats['wiki_db'] == 'enwiki']"
   ]
  },
  {
   "cell_type": "code",
   "execution_count": 7,
   "metadata": {},
   "outputs": [
    {
     "data": {
      "text/html": [
       "<div>\n",
       "<style scoped>\n",
       "    .dataframe tbody tr th:only-of-type {\n",
       "        vertical-align: middle;\n",
       "    }\n",
       "\n",
       "    .dataframe tbody tr th {\n",
       "        vertical-align: top;\n",
       "    }\n",
       "\n",
       "    .dataframe thead th {\n",
       "        text-align: right;\n",
       "    }\n",
       "</style>\n",
       "<table border=\"1\" class=\"dataframe\">\n",
       "  <thead>\n",
       "    <tr style=\"text-align: right;\">\n",
       "      <th></th>\n",
       "      <th>wiki_db</th>\n",
       "      <th>media_source</th>\n",
       "      <th>num_file_uses</th>\n",
       "      <th>num_files</th>\n",
       "    </tr>\n",
       "  </thead>\n",
       "  <tbody>\n",
       "    <tr>\n",
       "      <th>220</th>\n",
       "      <td>nnwiki</td>\n",
       "      <td>local</td>\n",
       "      <td>14</td>\n",
       "      <td>11</td>\n",
       "    </tr>\n",
       "    <tr>\n",
       "      <th>690</th>\n",
       "      <td>nnwiki</td>\n",
       "      <td>commons</td>\n",
       "      <td>407347</td>\n",
       "      <td>140559</td>\n",
       "    </tr>\n",
       "    <tr>\n",
       "      <th>1144</th>\n",
       "      <td>nnwiki</td>\n",
       "      <td>redlink</td>\n",
       "      <td>621</td>\n",
       "      <td>427</td>\n",
       "    </tr>\n",
       "  </tbody>\n",
       "</table>\n",
       "</div>"
      ],
      "text/plain": [
       "     wiki_db media_source  num_file_uses  num_files\n",
       "220   nnwiki        local             14         11\n",
       "690   nnwiki      commons         407347     140559\n",
       "1144  nnwiki      redlink            621        427"
      ]
     },
     "execution_count": 7,
     "metadata": {},
     "output_type": "execute_result"
    }
   ],
   "source": [
    "usage_stats.loc[usage_stats['wiki_db'] == 'nnwiki']"
   ]
  },
  {
   "cell_type": "markdown",
   "metadata": {},
   "source": [
    "This method allows us to aggregate this on a monthly basis using the snapshots that are available, and then further process it (e.g. visualize it). We can also for example modify the query to count the number of distinct files on Commons that are in use on other wikis and the number of times they are used, and similarly the number of distinct files that are hosted locally on wikis and how many times they are used."
   ]
  }
 ],
 "metadata": {
  "kernelspec": {
   "display_name": "Python 3",
   "language": "python",
   "name": "python3"
  },
  "language_info": {
   "codemirror_mode": {
    "name": "ipython",
    "version": 3
   },
   "file_extension": ".py",
   "mimetype": "text/x-python",
   "name": "python",
   "nbconvert_exporter": "python",
   "pygments_lexer": "ipython3",
   "version": "3.7.6"
  }
 },
 "nbformat": 4,
 "nbformat_minor": 4
}
